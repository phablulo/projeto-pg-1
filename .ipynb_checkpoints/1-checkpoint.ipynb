{
 "cells": [
  {
   "cell_type": "markdown",
   "metadata": {},
   "source": [
    "# 3D Engine!"
   ]
  },
  {
   "cell_type": "markdown",
   "metadata": {},
   "source": [
    "Fontes:\n",
    "\n",
    "- [ ] [Build your own a Ray Tracer](https://avikdas.com/build-your-own-raytracer/)"
   ]
  },
  {
   "cell_type": "markdown",
   "metadata": {},
   "source": [
    "Okay. Nossa câmera será um vetor, denotado por $\\vec{C}$. Mas também precisamos de um plano, que representa a tela, chamado Plano de imagem. Todos os raios serão lançados desse plano, com direção da câmera. Se esse plano é definido pelos vértices $\\vec{x}_1, \\vec{x}_2, \\vec{x}_3, \\vec{x}_4$:\n",
    "\n",
    "$$ \\vec{t} = (1 - \\alpha)\\vec{x}_1 + \\alpha\\vec{x}_2 $$\n",
    "$$ \\vec{b} = (1 - \\alpha)\\vec{x}_3 + \\alpha\\vec{x}_4 $$\n",
    "$$ \\vec{o} = (1 - \\beta)\\vec{t} + \\beta\\vec{b} $$\n",
    "\n",
    "Sendo que $\\alpha$ é a porcentagem do píxel em relação a largura da imagem (o $i$-ésimo pixel numa imagem com largura $w$ tem $\\alpha = \\frac{i}{w}$). O $\\beta$ refere-se a altura.\n",
    "\n",
    "Assim, a direção do raio de cada pixel é\n",
    "\n",
    "$$ \\vec{d} = \\vec{o} - \\vec{C} $$"
   ]
  },
  {
   "cell_type": "code",
   "execution_count": 1,
   "metadata": {},
   "outputs": [],
   "source": [
    "import numpy as np\n",
    "\n",
    "w, h = 512, 196\n",
    "r  = h/w # ratio\n",
    "C  = np.array([ 0,  0, -1]) # x, y, z\n",
    "x1 = np.array([-1,  r,  0]) # top-left\n",
    "x2 = np.array([ 1,  r,  0]) # top-right\n",
    "x3 = np.array([-1, -r,  0]) # bottom-left\n",
    "x4 = np.array([ 1, -r,  0]) # bottom-right\n",
    "\n",
    "imagePlane = np.zeros((w, h, 2, 3))\n",
    "for x in range(w):\n",
    "  alpha = x/w\n",
    "  t = (1 - alpha) * x1 + alpha * x2\n",
    "  b = (1 - alpha) * x3 + alpha * x4\n",
    "  for y in range(h):\n",
    "    beta = y/h\n",
    "    o = (1 - beta)*t + beta*b\n",
    "    # Guarda origem e direção \n",
    "    imagePlane[x, y, 0] = o\n",
    "    imagePlane[x, y, 1] = o - C\n",
    "\n",
    "del t, b, o, x, r, alpha, beta"
   ]
  },
  {
   "cell_type": "markdown",
   "metadata": {},
   "source": [
    "Vamos visualizar o que temos até aqui"
   ]
  },
  {
   "cell_type": "code",
   "execution_count": 17,
   "metadata": {
    "scrolled": true
   },
   "outputs": [
    {
     "data": {
      "image/png": "[encoded data removed]",
      "text/plain": [
       "<Figure size 432x288 with 1 Axes>"
      ]
     },
     "metadata": {
      "needs_background": "light"
     },
     "output_type": "display_data"
    }
   ],
   "source": [
    "x = imagePlane[:,:,1,0]\n",
    "y = imagePlane[:,:,1,1]\n",
    "x = x - np.amin(x) # get length\n",
    "y = y - np.amin(y) # get length\n",
    "x = x / np.amax(x) # get percent\n",
    "y = y / np.amax(y) # get percent\n",
    "\n",
    "colors = np.zeros((w, h, 3))\n",
    "colors[:,:,0] = x\n",
    "colors[:,:,1] = y\n",
    "\n",
    "del x\n",
    "del y\n",
    "\n",
    "from matplotlib.pyplot import imshow\n",
    "%matplotlib inline\n",
    "\n",
    "# matplotlib espera hxw\n",
    "imshow(colors.transpose(1,0,2))\n",
    "\n",
    "del colors"
   ]
  },
  {
   "cell_type": "markdown",
   "metadata": {},
   "source": [
    "Yay!  \n",
    "\n",
    "Raios no topo-esquerdo estão apontando pro topo-esquerdo como deveria ser. Observe que isso é verdade para todos os lados."
   ]
  },
  {
   "cell_type": "markdown",
   "metadata": {},
   "source": [
    "---"
   ]
  },
  {
   "cell_type": "markdown",
   "metadata": {},
   "source": [
    "Estamos prontos pra adicionar esferas no nosso universo.\n",
    "\n",
    "Todas as esferas precisarão ter pelo menos duas propriedades: posição e raio.\n",
    "\n",
    "Para cada pixel, precisamos saber se o raio que sai dele intersecta alguma esfera. Ou seja, para cada esfera de raio $r$, centrada em $\\vec{s}$, precisamos encontrar $t$ tal que\n",
    "\n",
    "$$ dist(\\vec{o} + \\vec{d}t, \\vec{s}) = r $$\n",
    "$$ \\Rightarrow \\|\\vec{o} + \\vec{d}t - \\vec{s}\\| = r$$\n",
    "$$ \\Rightarrow \\langle\\vec{o} + \\vec{d}t - \\vec{s}, \\vec{o} + \\vec{d}t - \\vec{s}\\rangle = r^2 $$\n",
    "\n",
    "Pra simplificar fazemos $\\vec{s}' = \\vec{o} - \\vec{s}$:\n",
    "\n",
    "$$ \\langle\\vec{s}' + \\vec{d}t, \\vec{s}' + \\vec{d}t\\rangle = r^2 $$\n",
    "$$ = \\langle\\vec{s}' + \\vec{d}t, \\vec{s}'\\rangle + \\langle\\vec{s}' + \\vec{d}t, \\vec{d}t\\rangle = r^2 $$\n",
    "$$ = \\langle\\vec{s}',\\vec{s}'\\rangle + \\langle\\vec{d}t,\\vec{s}'\\rangle + \\langle\\vec{s}',\\vec{d}t\\rangle + \\langle\\vec{d}t,\\vec{d}t\\rangle$$\n",
    "$$ \\|\\vec{s}'\\|^2 + t^2\\|\\vec{d}\\|^2 + 2t\\langle\\vec{s}',\\vec{d}\\rangle $$\n",
    "\n",
    "$$ \\Rightarrow \\|\\vec{d}\\|^2t^2 + 2\\langle\\vec{s}',\\vec{d}\\rangle t + (\\|\\vec{s}'\\|^2 - r^2) = 0 $$"
   ]
  },
  {
   "cell_type": "markdown",
   "metadata": {},
   "source": [
    "Para cada esfera, resolvemos a equação do segundo grau e escolhemos a menor solução (o ponto mais próximo). Se não houver solucão, o raio não intersecta uma esfera."
   ]
  },
  {
   "cell_type": "code",
   "execution_count": 18,
   "metadata": {},
   "outputs": [],
   "source": [
    "from math import sqrt\n",
    "def quadraticSolution(a,b,c):\n",
    "  delta = b*b - 4*a*c\n",
    "  if delta < 0:\n",
    "    return None\n",
    "  if delta == 0:\n",
    "    return -b/(2*a)\n",
    "  delta = sqrt(delta)\n",
    "  t1 = (-b + delta)/(2*a)\n",
    "  t2 = (-b - delta)/(2*a)\n",
    "  \n",
    "  return min(t1, t2)\n",
    "\n",
    "assert quadraticSolution(3,-7,4) == 1\n",
    "assert quadraticSolution(9,-12,4) == 2/3\n",
    "assert quadraticSolution(5,3,5) is None"
   ]
  },
  {
   "cell_type": "code",
   "execution_count": 19,
   "metadata": {},
   "outputs": [],
   "source": [
    "spheres = np.array([\n",
    "  # raio, xyz, rgb\n",
    "  ( 2, ( 0,  2, 10), (1.,0.,0.)),\n",
    "  (.6, (-1, .5,  2), (0.,1.,0.)),\n",
    "  ( 5, (-1, -1, 15), (0.,0.,1.))\n",
    "])"
   ]
  },
  {
   "cell_type": "code",
   "execution_count": 20,
   "metadata": {},
   "outputs": [
    {
     "data": {
      "image/png": "[encoded data removed]",
      "text/plain": [
       "<Figure size 432x288 with 1 Axes>"
      ]
     },
     "metadata": {
      "needs_background": "light"
     },
     "output_type": "display_data"
    }
   ],
   "source": [
    "from numpy.linalg import norm\n",
    "\n",
    "pixels = np.zeros((w,h,3))\n",
    "for x in range(w):\n",
    "  for y in range(h):\n",
    "    o,d = imagePlane[x,y]\n",
    "    a = norm(d)**2\n",
    "    smallT = None\n",
    "    color = None\n",
    "    for sphere in spheres:\n",
    "      r = sphere[0]\n",
    "      s = o - sphere[1] # s'\n",
    "      b = 2*np.dot(s,d)\n",
    "      c = norm(s)**2 - r*r\n",
    "      t = quadraticSolution(a,b,c)\n",
    "      if t is not None:\n",
    "        if smallT is None or t < smallT:\n",
    "          smallT = t\n",
    "          color = sphere[2]\n",
    "    if color is not None:\n",
    "      pixels[x,y] = color\n",
    "\n",
    "# matplotlib espera hxw\n",
    "imshow(pixels.transpose(1,0,2))\n",
    "\n",
    "# clean\n",
    "del pixels, x, y, o, d, a, smallT\n",
    "del color, r, s, b, c, t"
   ]
  },
  {
   "cell_type": "markdown",
   "metadata": {},
   "source": [
    "Yay!\n",
    "\n",
    "Agora já podemos ver o que a câmera vê. Experimente alterar a posição de $\\vec{C}$ e observe como isso altera a visão da câmera!"
   ]
  },
  {
   "cell_type": "markdown",
   "metadata": {},
   "source": [
    "---"
   ]
  },
  {
   "cell_type": "markdown",
   "metadata": {},
   "source": [
    "So far, so good.\n",
    "\n",
    "Agora queremos adicionar profundidade às esferas. Para isso, vamos usar o modelo de iluminação de Phog."
   ]
  },
  {
   "cell_type": "markdown",
   "metadata": {},
   "source": [
    "O modelo de Phong possui três componentes básicos:"
   ]
  },
  {
   "cell_type": "markdown",
   "metadata": {},
   "source": [
    "###### Luz de ambiente\n",
    "\n",
    "A luz de ambiente emitirá luz com uma intensidade $i_a$. Os objetos no universo refletirão parte ($k_a$) dessa luz, resultando em num reflexo de intensidade $k_ai_a$."
   ]
  },
  {
   "cell_type": "markdown",
   "metadata": {},
   "source": [
    "###### Difusão\n",
    "\n",
    "Para cada luz no cenário, os objetos refletirão uma parte ($k_d$) da itensidade $i_d$ dessa luz. A reflexão será em todas as direções.\n",
    "\n",
    "A quantidade de luz refletida depende de como a luz acerta o objeto. Se $\\vec{L}$ é o vetor da luz, e $\\vec{N}$ é o vetor normal ao ponto onde o raio toca, a intensidade da luz difusa é dada por\n",
    "\n",
    "$$ k_di_d\\langle\\vec{N},\\vec{L}\\rangle $$"
   ]
  },
  {
   "cell_type": "markdown",
   "metadata": {},
   "source": [
    "###### Luz Especular\n",
    "\n",
    "Para cada luz no cenário, pode existir uma luz especular, que é uma reflexão que depende do ângulo do observador. Se a reflexão vem direto pra câmera, então a intensidade é maior.\n",
    "\n",
    "Se a luz especular é refletida na direção $\\vec{R}$ numa proporção $k_s$, e o objeto tem constante de brilho $\\alpha$, e o vetor direção da câmera para o ponto de reflexão é $\\vec{V}$, então o resultado é\n",
    "\n",
    "$$ k_si_s\\langle\\vec{V},\\vec{R}\\rangle^\\alpha $$\n",
    "\n",
    "Sendo que\n",
    "$$ \\vec{V} = \\frac{\\hat{C} - \\hat{p}}{\\|\\hat{C} - \\hat{p}\\|} $$\n",
    "\n",
    "E o vetor $\\vec{R}$ é coputado da seguinte maneira:\n",
    "\n",
    "$$ \\vec{R} = 2\\langle\\vec{N}, \\vec{L}\\rangle\\vec{N} - \\vec{L} $$\n",
    "\n",
    "Por último, o vetor normal ao ponto $\\hat{p}$ da esfera centrada em $\\hat{s}$ é:\n",
    "\n",
    "$$ \\vec{N} = \\frac{\\hat{p} - \\hat{s}}{ \\|\\hat{p} - \\hat{s}\\|  } $$"
   ]
  },
  {
   "cell_type": "markdown",
   "metadata": {},
   "source": [
    "É isto. Vamos criar, em nosso universo, luzes. Cada uma delas precisa ter as seguintes propriedades:\n",
    "\n",
    "- posição\n",
    "- intensidade difusa ($i_d$)\n",
    "- intensidade especular ($i_s$)\n",
    "\n",
    "Além disso, precisamos adicionar a luz de ambiente $i_a$.\n",
    "\n",
    "$i_d$, $i_s$ e $i_a$ são, essensialmente, cores.\n",
    "\n",
    "As esferas, agoram devem ter as seguintes propriedades:\n",
    "\n",
    "- constante de ambiente $k_a$\n",
    "- constante de difusão $k_d$\n",
    "- constante especular $k_s$\n",
    "- fator de brilho $\\alpha$\n",
    "\n",
    "$k_a$ é, essecialmente, a cor do objeto. As outras constantes são porcentagens de o quanto o material deve refletir em cada um dos canais RGB. $\\alpha$ é um escalar."
   ]
  },
  {
   "cell_type": "code",
   "execution_count": 21,
   "metadata": {},
   "outputs": [],
   "source": [
    "spheres = np.array([\n",
    "  # raio,          xyz,         ka,           kd,           ks,   𝛼\n",
    "  (.5, ( 1.0, -.2, 1.4), (.1,.1,.1), (.9, .2, .2), (.7, .7, .7), 40),\n",
    "  (.5, ( 0.2,  .1, 1.8), (0.,.4,0.), (.5, .5, .5), (.5, .5, .5), 40),\n",
    "  (.3, (-1.6, 1.0, 2.5), (0.,0.,.4), (.5, .5, .5), (.5, .5, .5), 40)\n",
    "])\n",
    "lights = np.array([\n",
    "    #       xyz,           id,         is\n",
    "  ((-2, -.5, 1), (.8, .3, .3), (.8, .8, .8)),\n",
    "  (( 2,  .5, 0), (.4, .4, .9), (.8, .8, .8))\n",
    "])\n",
    "ambientLight = np.array([.5, .5, .5])"
   ]
  },
  {
   "cell_type": "code",
   "execution_count": 22,
   "metadata": {},
   "outputs": [
    {
     "data": {
      "image/png": "[encoded data removed]",
      "text/plain": [
       "<Figure size 432x288 with 1 Axes>"
      ]
     },
     "metadata": {
      "needs_background": "light"
     },
     "output_type": "display_data"
    }
   ],
   "source": [
    "pixels = np.zeros((w,h,3))\n",
    "for x in range(w):\n",
    "  for y in range(h):\n",
    "    o,d = imagePlane[x,y]\n",
    "    a = norm(d)**2\n",
    "    smallT = None\n",
    "    smallS = None\n",
    "    for sphere in spheres:\n",
    "      r = sphere[0]\n",
    "      s = o - sphere[1] # s'\n",
    "      b = 2*np.dot(s,d)\n",
    "      c = norm(s)**2 - r*r\n",
    "      t = quadraticSolution(a,b,c)\n",
    "      if t is not None:\n",
    "        if smallT is None or t < smallT:\n",
    "          smallT = t\n",
    "          smallS = sphere\n",
    "    if smallS is not None:\n",
    "      p = o + d*smallT # ponto de intersecção\n",
    "      s = smallS[1] # centro da esfera\n",
    "      N = (p - s) / norm(p - s)\n",
    "      # vamos calcular a cor\n",
    "      ka, kd, ks, alpha = smallS[2:]\n",
    "      V = C - p\n",
    "      V = V / norm(V)\n",
    "      color = ambientLight * ka\n",
    "      for light in lights:\n",
    "        L = light[0] - p\n",
    "        L = L / norm(L)\n",
    "        dot = np.dot(N, L) # luz na direção normal\n",
    "        if dot < 0:\n",
    "          # luz está vindo de dentro da esfera!\n",
    "          continue\n",
    "        difuse = kd * light[1] * dot\n",
    "        # agora a luz especular\n",
    "        R = 2*dot*N - L\n",
    "        specular = (ks * light[2]) * (np.dot(V, R)**alpha)\n",
    "        color = color + difuse + specular\n",
    "        \n",
    "      color = np.clip(color, 0, 1) # clamp\n",
    "      pixels[x,y] = color\n",
    "\n",
    "# matplotlib espera hxw\n",
    "imshow(pixels.transpose(1,0,2))\n",
    "\n",
    "# clean\n",
    "del pixels, x, y, o, d, a, smallT\n",
    "del smallS, r, s, b, c, t, p, N\n",
    "del ka, kd, ks, alpha"
   ]
  },
  {
   "cell_type": "markdown",
   "metadata": {},
   "source": [
    "---"
   ]
  },
  {
   "cell_type": "markdown",
   "metadata": {},
   "source": [
    "Agora, precisamos de sombras!\n",
    "\n",
    "A ideia é simples: quando um raio da câmera bater num ponto duma esfera, crie um raio desse ponto para cada ponto de luz. Para cada raio, verifique se ele intersecta um outro objeto do universo. Se intersectar, ignore luz difusa e luz especular vinda desse ponto de luz."
   ]
  },
  {
   "cell_type": "code",
   "execution_count": 23,
   "metadata": {},
   "outputs": [
    {
     "data": {
      "image/png": "[encoded data removed]",
      "text/plain": [
       "<Figure size 432x288 with 1 Axes>"
      ]
     },
     "metadata": {
      "needs_background": "light"
     },
     "output_type": "display_data"
    }
   ],
   "source": [
    "pixels = np.zeros((w,h,3))\n",
    "for x in range(w):\n",
    "  for y in range(h):\n",
    "    o,d = imagePlane[x,y]\n",
    "    a = norm(d)**2\n",
    "    smallT = None\n",
    "    smallS = None\n",
    "    for sphere in spheres:\n",
    "      r = sphere[0]\n",
    "      s = o - sphere[1] # s'\n",
    "      b = 2*np.dot(s,d)\n",
    "      c = norm(s)**2 - r*r\n",
    "      t = quadraticSolution(a,b,c)\n",
    "      if t is not None:\n",
    "        if smallT is None or t < smallT:\n",
    "          smallT = t\n",
    "          smallS = sphere\n",
    "    if smallS is not None:\n",
    "      p = o + d*smallT # ponto de intersecção\n",
    "      s = smallS[1] # centro da esfera\n",
    "      N = (p - s) / norm(p - s)\n",
    "      # vamos calcular a cor\n",
    "      ka, kd, ks, alpha = smallS[2:]\n",
    "      V = C - p\n",
    "      V = V / norm(V)\n",
    "      color = ambientLight * ka\n",
    "      for light in lights:\n",
    "        L = light[0] - p\n",
    "        L = L / norm(L)\n",
    "        # verificamos se não há objetos que estão na frente da luz\n",
    "        shadow = False\n",
    "        for sphere in spheres:\n",
    "          if sphere is smallS:\n",
    "            continue\n",
    "          # p é a origem\n",
    "          # L é a direção\n",
    "          s = p - sphere[1] # s'\n",
    "          b = 2*np.dot(s,L)\n",
    "          c = norm(s)**2 - sphere[0]**2\n",
    "          t = quadraticSolution(a,b,c)\n",
    "          if t is not None and t > 0 and t < 1:\n",
    "            shadow = True\n",
    "            break\n",
    "        if shadow:\n",
    "          continue\n",
    "        # podemos continuar\n",
    "        dot = np.dot(N, L) # luz na direção normal\n",
    "        if dot < 0:\n",
    "          # luz está vindo de dentro da esfera!\n",
    "          continue\n",
    "        difuse = kd * light[1] * dot\n",
    "        # agora a luz especular\n",
    "        R = 2*dot*N - L\n",
    "        specular = (ks * light[2]) * (np.dot(V, R)**alpha)\n",
    "        color = color + difuse + specular\n",
    "        \n",
    "      color = np.clip(color, 0, 1) # clamp\n",
    "      pixels[x,y] = color\n",
    "\n",
    "# matplotlib espera hxw\n",
    "imshow(pixels.transpose(1,0,2))\n",
    "\n",
    "# clean\n",
    "del pixels, x, y, o, d, a, smallT\n",
    "del smallS, r, s, b, c, t, p, N\n",
    "del ka, kd, ks, alpha"
   ]
  },
  {
   "cell_type": "markdown",
   "metadata": {},
   "source": [
    "E é isto :)"
   ]
  },
  {
   "cell_type": "markdown",
   "metadata": {},
   "source": [
    "---"
   ]
  },
  {
   "cell_type": "markdown",
   "metadata": {},
   "source": [
    "Antes de seguirmos em frente, vamos organizar o código em classes e funções, porque será bem útil na hora de criar reflexões:"
   ]
  },
  {
   "cell_type": "code",
   "execution_count": 85,
   "metadata": {},
   "outputs": [],
   "source": [
    "import numpy as np\n",
    "from numpy.linalg import norm\n",
    "\n",
    "class Ray:\n",
    "  def __init__(self, origin, direction):\n",
    "    self.origin = np.array(origin)\n",
    "    self.direction = np.array(direction)\n",
    "  def at(self, t):\n",
    "    return self.origin + t*self.direction\n",
    "\n",
    "class ImagePlane:\n",
    "  def __init__(self, topLeft, topRight, bottomLeft, bottomRight):\n",
    "    self.tl = topLeft\n",
    "    self.tr = topRight\n",
    "    self.bl = bottomLeft\n",
    "    self.br = bottomRight\n",
    "\n",
    "class Camera:\n",
    "  def __init__(self, f, pos, fov=None, target=None, up=None):\n",
    "    self.f = np.array(f)\n",
    "    self.pos = np.array(pos)\n",
    "    self.fov = fov\n",
    "    self.target = target\n",
    "    \n",
    "class Sphere:\n",
    "  def __init__(self, r, xyz, rgb, kd, ks, alpha=40, rug=None):\n",
    "    self.r = r # raio\n",
    "    self.xyz = np.array(xyz) # posição\n",
    "    self.rgb = np.array(rgb) # cor\n",
    "    #self.ka = ka # fator de reflexão da luz ambiente\n",
    "    self.kd = np.array(kd) # fator de reflexão difusa\n",
    "    self.ks = np.array(ks) # fator de reflexão especular (e reflexão)\n",
    "    self.alpha = alpha # coeficiente de brilho\n",
    "    self.rug = rug # coeficiente de rugosidade # é alpha?\n",
    "\n",
    "class Light:\n",
    "  def __init__(self, xyz, difuse, specular):\n",
    "    self.xyz = np.array(xyz)\n",
    "    self.difuse = np.array(difuse)\n",
    "    self.specular = np.array(specular)\n",
    "    \n",
    "class Scene:\n",
    "  def __init__(self, w, h, camera):\n",
    "    self.w = w\n",
    "    self.h = h\n",
    "    self.camera = camera\n",
    "    self.bgColor = np.array([0,0,0])\n",
    "    self.spheres = []\n",
    "    self.lights = []\n",
    "    self.ambientLight = np.array([.5, .5, .5])\n",
    "    self.setCameraDistance(camera.f)\n",
    "\n",
    "  def setCameraDistance(self, distance):\n",
    "    camera = self.camera\n",
    "    dist = camera.pos[2] + distance # center of Image Plane\n",
    "    r = h/w # ratio\n",
    "    self.iPlane = ImagePlane(\n",
    "      np.array([-1,  r, dist]), # top left\n",
    "      np.array([ 1,  r, dist]), # top right\n",
    "      np.array([-1, -r, dist]), # bottom left\n",
    "      np.array([ 1, -r, dist])  # bottom right\n",
    "    )\n",
    "    \n",
    "  def setSize(self, w, h):\n",
    "    self.w = w\n",
    "    self.h = h\n",
    "    \n",
    "  def addSphere(self, sphere):\n",
    "    self.spheres.append(sphere)\n",
    "  \n",
    "  def setSpheres(self, spheres):\n",
    "    self.spheres = []\n",
    "    for sphere in spheres:\n",
    "      self.addSphere(sphere)\n",
    "  \n",
    "  def addLight(self, light):\n",
    "    self.lights.append(light)\n",
    "    \n",
    "  def setAmbientLight(self, color):\n",
    "    self.ambientLight = np.array(color)\n",
    "  \n",
    "    \n",
    "  def rayForPixel(self, x, y):\n",
    "    xt = x / self.w\n",
    "    yt = y / self.h\n",
    "    iPlane = self.iPlane\n",
    "    \n",
    "    top = lerp(iPlane.tl, iPlane.tr, xt)\n",
    "    bottom = lerp(iPlane.bl, iPlane.br, xt)\n",
    "    point = lerp(top, bottom, yt)\n",
    "    \n",
    "    return Ray(point, point - self.camera.pos)\n",
    "  \n",
    "  def intersectRay(self, ray, shadowOf=None):\n",
    "    a = norm(ray.direction)**2\n",
    "    smallest = None\n",
    "    for sphere in self.spheres:\n",
    "      s = ray.origin - sphere.xyz # s'\n",
    "      b = 2*np.dot(s, ray.direction)\n",
    "      c = norm(s)**2 - sphere.r**2\n",
    "      t = quadraticSolution(a,b,c)\n",
    "      if t is not None and (smallest is None or t < smallest[0]):\n",
    "        if shadowOf is None:\n",
    "          smallest = (t, sphere)\n",
    "        elif shadowOf is not sphere and t > 0 and t < 1:\n",
    "          return (t, sphere)\n",
    "    return smallest\n",
    "  \n",
    "  def colorForRay(self, ray):\n",
    "    intersected = self.intersectRay(ray)\n",
    "    if intersected is None:\n",
    "      return self.bgColor\n",
    "    t, sphere = intersected\n",
    "    intersection = ray.at(t)\n",
    "    normal = normalize(intersection - sphere.xyz)\n",
    "    eyeDirection = normalize(self.camera.pos - intersection)\n",
    "    color = sphere.rgb * self.ambientLight\n",
    "    for light in self.lights:\n",
    "      lightDirection = normalize(light.xyz - intersection)\n",
    "      shadow = self.intersectRay(Ray(intersection, lightDirection), sphere)\n",
    "      if shadow is not None:\n",
    "        # está na sombra\n",
    "        continue\n",
    "      lightNormal = np.dot(normal, lightDirection)\n",
    "      if lightNormal < 0:\n",
    "        continue # luz está vindo por dentro da esfera\n",
    "      difuse = sphere.kd * light.difuse * lightNormal\n",
    "      # agora a luz especular\n",
    "      reflectance = 2*normal*lightNormal - lightDirection\n",
    "      specular = sphere.ks * light.specular\n",
    "      specular = specular * np.dot(eyeDirection, reflectance)**sphere.alpha\n",
    "      color = color + difuse + specular\n",
    "    return np.clip(color, 0, 1) # clamp\n",
    "  \n",
    "  def draw(self, lowQuality=False):\n",
    "    colors = np.zeros((self.w, self.h, 3))\n",
    "    if lowQuality:\n",
    "      for x in range(self.w):\n",
    "        for y in range(self.h):\n",
    "          ray = self.rayForPixel(x, y)\n",
    "          intersection = self.intersectRay(ray)\n",
    "          colors[x, y] = intersection[1].rgb if intersection is not None else self.bgColor\n",
    "    else:\n",
    "      for x in range(self.w):\n",
    "        for y in range(self.h):\n",
    "          ray = self.rayForPixel(x, y)\n",
    "          color = self.colorForRay(ray)\n",
    "          colors[x, y] = color\n",
    "    showImage(colors)\n",
    "  \n",
    "def normalize(vector):\n",
    "  return vector / norm(vector)\n",
    "\n",
    "def lerp(start, end, t):\n",
    "  return (1 - t)*start + t*end\n",
    "\n",
    "from math import sqrt\n",
    "def quadraticSolution(a,b,c):\n",
    "  delta = b*b - 4*a*c\n",
    "  if delta < 0:\n",
    "    return None\n",
    "  if delta == 0:\n",
    "    return -b/(2*a)\n",
    "  delta = sqrt(delta)\n",
    "  t1 = (-b + delta)/(2*a)\n",
    "  t2 = (-b - delta)/(2*a)\n",
    "  \n",
    "  return min(t1, t2)\n",
    "\n",
    "from matplotlib.pyplot import imshow\n",
    "%matplotlib inline\n",
    "def showImage(image):\n",
    "  # matplotlib espera hxw\n",
    "  imshow(image.transpose(1, 0, 2))"
   ]
  },
  {
   "cell_type": "code",
   "execution_count": 86,
   "metadata": {},
   "outputs": [],
   "source": [
    "def normalizeColor(color):\n",
    "  color = color - np.amin(color) # get length\n",
    "  color = color / np.amax(color) # get percent\n",
    "  return color\n",
    "\n",
    "def showDirections(scene):\n",
    "  X = np.zeros((scene.w, scene.h))\n",
    "  Y = np.zeros((scene.w, scene.h))\n",
    "  Z = np.zeros((scene.w, scene.h))\n",
    "  for x in range(scene.w):\n",
    "    for y in range(scene.h):\n",
    "      c = scene.rayForPixel(x, y).direction\n",
    "      X[x, y] = c[0] # red\n",
    "      Y[x, y] = c[1] # green\n",
    "#       Z[x, y] = c[2] # blue\n",
    "  colors = np.zeros((scene.w, scene.h, 3))\n",
    "  colors[:,:,0] = normalizeColor(X)\n",
    "  colors[:,:,1] = normalizeColor(Y)\n",
    "#   colors[:,:,2] = normalizeColor(Z)\n",
    "  showImage(colors)\n",
    "  \n",
    "def createStandardScene(Class=Scene):\n",
    "  scene = Class(512, 196, Camera(1, np.array([0, 0, -1])))\n",
    "  scene.addSphere(Sphere(.5, ( 1.0, -.2, 1.4), (.9 ,.1, .1), (.9, .2, .2), (.5, .5, .5)))\n",
    "  scene.addSphere(Sphere(.5, ( 0.2,  .1, 1.8), (0. ,.4, 0.), (.5, .5, .5), (.5, .5, .5)))\n",
    "  scene.addSphere(Sphere(.3, (-1.6, 1.0, 2.5), (0. ,0., .4), (.5, .5, .5), (.5, .5, .5)))\n",
    "\n",
    "  scene.addLight(Light((-2, -.5, 1), (.8, .3, .3), (.8, .8, .8)))\n",
    "  scene.addLight(Light(( 2,  .5, 0), (.4, .4, .9), (.8, .8, .8)))\n",
    "  return scene"
   ]
  },
  {
   "cell_type": "code",
   "execution_count": 87,
   "metadata": {},
   "outputs": [],
   "source": [
    "scene = createStandardScene()"
   ]
  },
  {
   "cell_type": "code",
   "execution_count": 88,
   "metadata": {
    "scrolled": false
   },
   "outputs": [
    {
     "data": {
      "image/png": "[encoded data removed]",
      "text/plain": [
       "<Figure size 432x288 with 1 Axes>"
      ]
     },
     "metadata": {
      "needs_background": "light"
     },
     "output_type": "display_data"
    }
   ],
   "source": [
    "showDirections(scene)"
   ]
  },
  {
   "cell_type": "code",
   "execution_count": 89,
   "metadata": {},
   "outputs": [
    {
     "data": {
      "image/png": "[encoded data removed]",
      "text/plain": [
       "<Figure size 432x288 with 1 Axes>"
      ]
     },
     "metadata": {
      "needs_background": "light"
     },
     "output_type": "display_data"
    }
   ],
   "source": [
    "scene.draw(True)"
   ]
  },
  {
   "cell_type": "code",
   "execution_count": 90,
   "metadata": {},
   "outputs": [
    {
     "data": {
      "image/png": "[encoded data removed]",
      "text/plain": [
       "<Figure size 432x288 with 1 Axes>"
      ]
     },
     "metadata": {
      "needs_background": "light"
     },
     "output_type": "display_data"
    }
   ],
   "source": [
    "scene.draw()"
   ]
  },
  {
   "cell_type": "markdown",
   "metadata": {},
   "source": [
    "---"
   ]
  },
  {
   "cell_type": "markdown",
   "metadata": {},
   "source": [
    "Agora, para as reflexões.\n",
    "\n",
    "Ao contrário de materiais difusos, materiais reflexivos enviam toda a luz refletida em uma única direção.\n",
    "\n",
    "O cálculo é similar ao cálculo da luz especular em Phong, com a diferença de que\n",
    "\n",
    "$$ \\vec{R} = 2\\langle\\vec{N},\\vec{V}\\rangle\\vec{N} - \\vec{V} $$\n",
    "\n",
    "Para encontrar o que será refletido, lançamos um raio a partir do ponto visto na direção $\\vec{R}$"
   ]
  },
  {
   "cell_type": "code",
   "execution_count": 91,
   "metadata": {},
   "outputs": [],
   "source": [
    "class SceneWithReflections(Scene):\n",
    "  def colorForRay(self, ray, depth=3):\n",
    "    intersected = self.intersectRay(ray)\n",
    "    if intersected is None:\n",
    "      return self.bgColor\n",
    "    t, sphere = intersected\n",
    "    intersection = ray.at(t)\n",
    "    normal = normalize(intersection - sphere.xyz)\n",
    "    eyeDirection = normalize(self.camera.pos - intersection)\n",
    "    color = sphere.rgb * self.ambientLight\n",
    "    for light in self.lights:\n",
    "      lightDirection = normalize(light.xyz - intersection)\n",
    "      shadow = self.intersectRay(Ray(intersection, lightDirection), sphere)\n",
    "      if shadow is not None:\n",
    "        # está na sombra\n",
    "        continue\n",
    "      lightNormal = np.dot(normal, lightDirection)\n",
    "      if lightNormal < 0:\n",
    "        continue # luz está vindo por dentro da esfera\n",
    "      difuse = sphere.kd * light.difuse * lightNormal\n",
    "      # agora a luz especular\n",
    "      reflectance = 2*normal*lightNormal - lightDirection\n",
    "      specular = sphere.ks * light.specular\n",
    "      specular = specular * np.dot(eyeDirection, reflectance)**sphere.alpha\n",
    "      color = color + difuse + specular\n",
    "    # nesse momento, podemos calcular reflexões\n",
    "    if depth > 0:\n",
    "      rd = normalize(-1*ray.direction) # reflection direction\n",
    "      reflectance = 2*normal*np.dot(normal, rd) - rd\n",
    "      reflectionRay = Ray(\n",
    "        intersection + normal*0.01,\n",
    "        -reflectance\n",
    "      )\n",
    "      reflected = self.colorForRay(reflectionRay, depth-1)\n",
    "      color = color + reflected * sphere.ks\n",
    "    \n",
    "    return np.clip(color, 0, 1) # clamp"
   ]
  },
  {
   "cell_type": "code",
   "execution_count": 58,
   "metadata": {},
   "outputs": [
    {
     "data": {
      "image/png": "[encoded data removed]",
      "text/plain": [
       "<Figure size 432x288 with 1 Axes>"
      ]
     },
     "metadata": {
      "needs_background": "light"
     },
     "output_type": "display_data"
    }
   ],
   "source": [
    "createStandardScene(SceneWithReflections).draw()"
   ]
  },
  {
   "cell_type": "code",
   "execution_count": 120,
   "metadata": {},
   "outputs": [
    {
     "data": {
      "image/png": "[encoded data removed]",
      "text/plain": [
       "<Figure size 432x288 with 1 Axes>"
      ]
     },
     "metadata": {
      "needs_background": "light"
     },
     "output_type": "display_data"
    }
   ],
   "source": [
    "scene = SceneWithReflections(512, 196, Camera(1, np.array([0, 0, -1])))\n",
    "scene.addSphere(Sphere(.5, ( 1.2, -.4, 1.4), (.9 ,.2, .2), (.5, .5, .5), (.5, .5, .5)))\n",
    "scene.addSphere(Sphere(.5, ( 0.0, -.4, 1.4), (0. ,.4, 0.), (.5, .5, .5), (.5, .5, .5)))\n",
    "scene.addSphere(Sphere(.5, (-1.2, -.4, 1.4), (0. ,0., .4), (.5, .5, .5), (.5, .5, .5)))\n",
    "\n",
    "scene.addLight(Light((-2, -.5, 1), (.8, .8, .8), (.8, .8, .8)))\n",
    "scene.addLight(Light(( 2,  .5, 0), (.4, .4, .4), (.4, .4, .4)))\n",
    "\n",
    "scene.draw(True)"
   ]
  },
  {
   "cell_type": "markdown",
   "metadata": {},
   "source": [
    "---"
   ]
  },
  {
   "cell_type": "markdown",
   "metadata": {},
   "source": [
    "\n",
    "Agora podeos fazer uns testes (:"
   ]
  },
  {
   "cell_type": "code",
   "execution_count": null,
   "metadata": {},
   "outputs": [],
   "source": [
    "gray = (0.5, 0.5, 0.5)\n",
    "scene.setCameraDistance(.7)\n",
    "scene.addSphere(Sphere(2, (0, 2, 1.8), gray, gray, gray))\n",
    "scene.draw()"
   ]
  },
  {
   "cell_type": "code",
   "execution_count": null,
   "metadata": {},
   "outputs": [],
   "source": []
  }
 ],
 "metadata": {
  "kernelspec": {
   "display_name": "Python 3",
   "language": "python",
   "name": "python3"
  },
  "language_info": {
   "codemirror_mode": {
    "name": "ipython",
    "version": 3
   },
   "file_extension": ".py",
   "mimetype": "text/x-python",
   "name": "python",
   "nbconvert_exporter": "python",
   "pygments_lexer": "ipython3",
   "version": "3.5.3"
  }
 },
 "nbformat": 4,
 "nbformat_minor": 2
}
